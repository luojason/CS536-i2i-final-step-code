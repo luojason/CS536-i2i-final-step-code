{
 "cells": [
  {
   "cell_type": "code",
   "execution_count": 1,
   "id": "6fda01bc",
   "metadata": {},
   "outputs": [],
   "source": [
    "import sys\n",
    "import os"
   ]
  },
  {
   "cell_type": "code",
   "execution_count": 2,
   "id": "f6fb9fa1",
   "metadata": {},
   "outputs": [
    {
     "data": {
      "text/plain": [
       "'/common/home/jl2362/cs536/step3/pytorch-CycleGAN-and-pix2pix'"
      ]
     },
     "execution_count": 2,
     "metadata": {},
     "output_type": "execute_result"
    }
   ],
   "source": [
    "os.chdir('pytorch-CycleGAN-and-pix2pix/')\n",
    "os.getcwd()"
   ]
  },
  {
   "cell_type": "code",
   "execution_count": 3,
   "id": "d26245ef",
   "metadata": {},
   "outputs": [
    {
     "name": "stdout",
     "output_type": "stream",
     "text": [
      "/koko/system/anaconda/bin/python3\n"
     ]
    }
   ],
   "source": [
    "!which python3"
   ]
  },
  {
   "cell_type": "code",
   "execution_count": 4,
   "id": "010e136f",
   "metadata": {},
   "outputs": [],
   "source": [
    "import torch\n",
    "from torch import nn, optim\n",
    "import torch.utils.data as tdata\n",
    "\n",
    "import torchvision\n",
    "import torchvision.transforms as tforms\n",
    "import torchvision.utils as vutils\n",
    "from torchvision.datasets import ImageFolder\n",
    "\n",
    "from torchmetrics.image.fid import FrechetInceptionDistance\n",
    "from torchmetrics.image.inception import InceptionScore\n",
    "\n",
    "from PIL import Image\n",
    "import numpy as np"
   ]
  },
  {
   "cell_type": "code",
   "execution_count": 5,
   "id": "ce513faa",
   "metadata": {},
   "outputs": [],
   "source": [
    "# required cycleGAN packages to load data and models\n",
    "from options.test_options import TestOptions\n",
    "from models import create_model\n",
    "from data import create_dataset"
   ]
  },
  {
   "cell_type": "code",
   "execution_count": 6,
   "id": "f4dc8fba",
   "metadata": {},
   "outputs": [
    {
     "name": "stdout",
     "output_type": "stream",
     "text": [
      "cuda:0\n"
     ]
    }
   ],
   "source": [
    "batch_size = 256\n",
    "img_size = 256\n",
    "device = torch.device('cuda:0' if torch.cuda.is_available() else 'cpu')\n",
    "print(device)"
   ]
  },
  {
   "cell_type": "code",
   "execution_count": 7,
   "id": "fa91d87a",
   "metadata": {},
   "outputs": [],
   "source": [
    "def load_data(path: str, batch_size=64, num_workers=2):\n",
    "    data_transform = tforms.Compose([\n",
    "        tforms.Resize(img_size),\n",
    "        tforms.CenterCrop(img_size),\n",
    "        tforms.ToTensor(),\n",
    "        tforms.Normalize((0.5, 0.5, 0.5), (0.5, 0.5, 0.5))\n",
    "    ])\n",
    "    dataset = ImageFolder(root=path, transform=data_transform)\n",
    "    return tdata.DataLoader(\n",
    "        dataset,\n",
    "        shuffle=False,\n",
    "        drop_last=False,\n",
    "        batch_size=batch_size,\n",
    "        num_workers=num_workers\n",
    "    )"
   ]
  },
  {
   "cell_type": "code",
   "execution_count": 8,
   "id": "d7c56379-3722-40fe-9281-5ea1d3e834b1",
   "metadata": {},
   "outputs": [],
   "source": [
    "prerec_data = load_data('./datasets/eval_prerec', batch_size=128)\n",
    "live_data = load_data('./datasets/eval_live', batch_size=128)\n",
    "real_data = load_data('./datasets/eval_real', batch_size=128)"
   ]
  },
  {
   "cell_type": "markdown",
   "id": "8e698691-16e2-4c36-a6b0-c3e329505fb1",
   "metadata": {},
   "source": [
    "## Metric Evaluation Functions"
   ]
  },
  {
   "cell_type": "code",
   "execution_count": 19,
   "id": "93bb2f2a-4bfe-44bf-bd97-b40ce8d24006",
   "metadata": {},
   "outputs": [],
   "source": [
    "def compute_fid(model: nn.Module, source_data: tdata.DataLoader, target_data: tdata.DataLoader):\n",
    "    \"\"\"Computes the FID for a model.\n",
    "    \n",
    "    Params:\n",
    "        model -- a network translating the source domain to target domain\n",
    "        target_data -- loads data from the target domain ('real' data)\n",
    "        source_data -- loads data from the source domain (is translated into 'fake' data)\n",
    "    Returns:\n",
    "        FID value\n",
    "    \"\"\"\n",
    "    fid = FrechetInceptionDistance()\n",
    "    \n",
    "    # feed real data in\n",
    "    for target_batch in target_data:\n",
    "        with torch.no_grad():\n",
    "            # need to convert image to correct format\n",
    "            img = target_batch[0].mul(0.5).add_(0.5).mul(255).add_(0.5).clamp_(0, 255).to(dtype=torch.uint8)\n",
    "            fid.update(img, real=True)\n",
    "    \n",
    "    # feed fake/translated data in\n",
    "    for source_batch in source_data:\n",
    "        source_batch = source_batch[0].to(device)\n",
    "        with torch.no_grad():\n",
    "            fake_batch = model(source_batch)\n",
    "            # need to convert image to correct format\n",
    "            fid.update(fake_batch.mul(0.5).add_(0.5).mul(255).add_(0.5).clamp_(0, 255).to('cpu', dtype=torch.uint8), real=False)\n",
    "    \n",
    "    return fid.compute().item()"
   ]
  },
  {
   "cell_type": "code",
   "execution_count": 20,
   "id": "9385dfb2-735c-444a-a5a8-d5dbe9d6e6b1",
   "metadata": {},
   "outputs": [],
   "source": [
    "def compute_is(model: nn.Module, source_data: tdata.DataLoader):\n",
    "    \"\"\"Computes the IS for a model.\n",
    "    \n",
    "    Params:\n",
    "        model -- a network translating the source domain to target domain\n",
    "        source_data -- loads data from the source domain (is translated into 'fake' data)\n",
    "    Returns:\n",
    "        IS mean and stddev\n",
    "    \"\"\"\n",
    "    inception = InceptionScore()\n",
    "    \n",
    "    # feed generated images\n",
    "    for source_batch in source_data:\n",
    "        source_batch = source_batch[0].to(device)\n",
    "        with torch.no_grad():\n",
    "            fake_batch = model(source_batch)\n",
    "            # need to convert image to correct format\n",
    "            inception.update(fake_batch.mul(0.5).add_(0.5).mul(255).add_(0.5).clamp_(0, 255).to('cpu', dtype=torch.uint8))\n",
    "    \n",
    "    is_mean, is_stddev = inception.compute()\n",
    "    return is_mean.item(), is_stddev.item()"
   ]
  },
  {
   "cell_type": "markdown",
   "id": "e12981de",
   "metadata": {},
   "source": [
    "## Evaluate models between prerecorded pizza and real pizza"
   ]
  },
  {
   "cell_type": "markdown",
   "id": "d63e4d63",
   "metadata": {},
   "source": [
    "### prerec2real"
   ]
  },
  {
   "cell_type": "code",
   "execution_count": 11,
   "id": "f3430db2",
   "metadata": {},
   "outputs": [
    {
     "name": "stdout",
     "output_type": "stream",
     "text": [
      "----------------- Options ---------------\n",
      "             aspect_ratio: 1.0                           \n",
      "               batch_size: 1                             \n",
      "          checkpoints_dir: ./checkpoints                 \n",
      "                crop_size: 256                           \n",
      "                 dataroot: ./datasets/pizza              \t[default: None]\n",
      "             dataset_mode: unaligned                     \n",
      "                direction: AtoB                          \n",
      "          display_winsize: 256                           \n",
      "                    epoch: latest                        \n",
      "                     eval: False                         \n",
      "                  gpu_ids: 0                             \n",
      "                init_gain: 0.02                          \n",
      "                init_type: normal                        \n",
      "                 input_nc: 3                             \n",
      "                  isTrain: False                         \t[default: None]\n",
      "                load_iter: 0                             \t[default: 0]\n",
      "                load_size: 256                           \n",
      "         max_dataset_size: inf                           \n",
      "                    model: cycle_gan                     \t[default: test]\n",
      "               n_layers_D: 3                             \n",
      "                     name: prerec_pizza                  \t[default: experiment_name]\n",
      "                      ndf: 64                            \n",
      "                     netD: basic                         \n",
      "                     netG: resnet_9blocks                \n",
      "                      ngf: 64                            \n",
      "               no_dropout: True                          \n",
      "                  no_flip: False                         \n",
      "                     norm: instance                      \n",
      "                 num_test: 50                            \n",
      "              num_threads: 4                             \n",
      "                output_nc: 3                             \n",
      "                    phase: test                          \n",
      "               preprocess: resize_and_crop               \n",
      "              results_dir: ./results/                    \n",
      "           serial_batches: False                         \n",
      "                   suffix:                               \n",
      "                use_wandb: False                         \n",
      "                  verbose: False                         \n",
      "----------------- End -------------------\n",
      "initialize network with normal\n",
      "initialize network with normal\n",
      "model [CycleGANModel] was created\n",
      "loading the model from ./checkpoints/prerec_pizza/latest_net_G_A.pth\n",
      "loading the model from ./checkpoints/prerec_pizza/latest_net_G_B.pth\n",
      "---------- Networks initialized -------------\n",
      "[Network G_A] Total number of parameters : 11.378 M\n",
      "[Network G_B] Total number of parameters : 11.378 M\n",
      "-----------------------------------------------\n"
     ]
    }
   ],
   "source": [
    "sys.argv = \"test.py --dataroot ./datasets/pizza --name prerec_pizza --model cycle_gan\".split()\n",
    "opt = TestOptions().parse()\n",
    "# hard-code some parameters for test\n",
    "opt.num_threads = 0   # test code only supports num_threads = 0\n",
    "opt.batch_size = 1    # test code only supports batch_size = 1\n",
    "opt.serial_batches = True  # disable data shuffling; comment this line if results on randomly chosen images are needed.\n",
    "opt.no_flip = True    # no flip; comment this line if results on flipped images are needed.\n",
    "opt.display_id = -1 \n",
    "model = create_model(opt)\n",
    "model.setup(opt)"
   ]
  },
  {
   "cell_type": "code",
   "execution_count": 12,
   "id": "bd9b591c",
   "metadata": {},
   "outputs": [],
   "source": [
    "prerec2real = model.netG_A\n",
    "real2prerec = model.netG_B"
   ]
  },
  {
   "cell_type": "code",
   "execution_count": 13,
   "id": "538ce9be-4753-481a-a3df-8664f5024df5",
   "metadata": {},
   "outputs": [
    {
     "name": "stderr",
     "output_type": "stream",
     "text": [
      "/common/home/jl2362/.local/lib/python3.6/site-packages/torchmetrics/utilities/prints.py:36: UserWarning: Metric `FrechetInceptionDistance` will save all extracted features in buffer. For large datasets this may lead to large memory footprint.\n",
      "  warnings.warn(*args, **kwargs)\n",
      "/common/home/jl2362/.local/lib/python3.6/site-packages/torchmetrics/utilities/prints.py:36: UserWarning: Metric `InceptionScore` will save all extracted features in buffer. For large datasets this may lead to large memory footprint.\n",
      "  warnings.warn(*args, **kwargs)\n"
     ]
    },
    {
     "name": "stdout",
     "output_type": "stream",
     "text": [
      "fid: 200.0346221923828\n",
      "is: 3.4202301502227783 ± 0.15140429139137268\n"
     ]
    }
   ],
   "source": [
    "# compute scores for prerecorded -> real\n",
    "fid = compute_fid(prerec2real, prerec_data, real_data)\n",
    "i_score = compute_is(prerec2real, prerec_data)\n",
    "\n",
    "print(f'fid: {fid}')\n",
    "print(f'is: {i_score[0]} \\u00B1 {i_score[1]}')"
   ]
  },
  {
   "cell_type": "code",
   "execution_count": 21,
   "id": "812d2e8b",
   "metadata": {},
   "outputs": [
    {
     "name": "stdout",
     "output_type": "stream",
     "text": [
      "fid: 154.47573852539062\n",
      "is: 3.28467059135437 ± 0.15126541256904602\n"
     ]
    }
   ],
   "source": [
    "# compute scores for real -> prerecorded\n",
    "fid = compute_fid(real2prerec, real_data, prerec_data)\n",
    "i_score = compute_is(real2prerec, real_data)\n",
    "\n",
    "print(f'fid: {fid}')\n",
    "print(f'is: {i_score[0]} \\u00B1 {i_score[1]}')"
   ]
  },
  {
   "cell_type": "markdown",
   "id": "491a11a9",
   "metadata": {},
   "source": [
    "### live2real"
   ]
  },
  {
   "cell_type": "code",
   "execution_count": 22,
   "id": "e0bc73a1",
   "metadata": {},
   "outputs": [
    {
     "name": "stdout",
     "output_type": "stream",
     "text": [
      "----------------- Options ---------------\n",
      "             aspect_ratio: 1.0                           \n",
      "               batch_size: 1                             \n",
      "          checkpoints_dir: ./checkpoints                 \n",
      "                crop_size: 256                           \n",
      "                 dataroot: ./datasets/livepizza          \t[default: None]\n",
      "             dataset_mode: unaligned                     \n",
      "                direction: AtoB                          \n",
      "          display_winsize: 256                           \n",
      "                    epoch: latest                        \n",
      "                     eval: False                         \n",
      "                  gpu_ids: 0                             \n",
      "                init_gain: 0.02                          \n",
      "                init_type: normal                        \n",
      "                 input_nc: 3                             \n",
      "                  isTrain: False                         \t[default: None]\n",
      "                load_iter: 0                             \t[default: 0]\n",
      "                load_size: 256                           \n",
      "         max_dataset_size: inf                           \n",
      "                    model: cycle_gan                     \t[default: test]\n",
      "               n_layers_D: 3                             \n",
      "                     name: live_pizza                    \t[default: experiment_name]\n",
      "                      ndf: 64                            \n",
      "                     netD: basic                         \n",
      "                     netG: resnet_9blocks                \n",
      "                      ngf: 64                            \n",
      "               no_dropout: True                          \n",
      "                  no_flip: False                         \n",
      "                     norm: instance                      \n",
      "                 num_test: 50                            \n",
      "              num_threads: 4                             \n",
      "                output_nc: 3                             \n",
      "                    phase: test                          \n",
      "               preprocess: resize_and_crop               \n",
      "              results_dir: ./results/                    \n",
      "           serial_batches: False                         \n",
      "                   suffix:                               \n",
      "                use_wandb: False                         \n",
      "                  verbose: False                         \n",
      "----------------- End -------------------\n",
      "initialize network with normal\n",
      "initialize network with normal\n",
      "model [CycleGANModel] was created\n",
      "loading the model from ./checkpoints/live_pizza/latest_net_G_A.pth\n",
      "loading the model from ./checkpoints/live_pizza/latest_net_G_B.pth\n",
      "---------- Networks initialized -------------\n",
      "[Network G_A] Total number of parameters : 11.378 M\n",
      "[Network G_B] Total number of parameters : 11.378 M\n",
      "-----------------------------------------------\n"
     ]
    }
   ],
   "source": [
    "sys.argv = \"test.py --dataroot ./datasets/livepizza --name live_pizza --model cycle_gan\".split()\n",
    "opt = TestOptions().parse()\n",
    "# hard-code some parameters for test\n",
    "opt.num_threads = 0   # test code only supports num_threads = 0\n",
    "opt.batch_size = 1    # test code only supports batch_size = 1\n",
    "opt.serial_batches = True  # disable data shuffling; comment this line if results on randomly chosen images are needed.\n",
    "opt.no_flip = True    # no flip; comment this line if results on flipped images are needed.\n",
    "opt.display_id = -1 \n",
    "model = create_model(opt)\n",
    "model.setup(opt)"
   ]
  },
  {
   "cell_type": "code",
   "execution_count": 23,
   "id": "cdd4fc2e",
   "metadata": {},
   "outputs": [],
   "source": [
    "live2real = model.netG_A\n",
    "real2live= model.netG_B"
   ]
  },
  {
   "cell_type": "code",
   "execution_count": 24,
   "id": "61e80b67",
   "metadata": {},
   "outputs": [
    {
     "name": "stdout",
     "output_type": "stream",
     "text": [
      "fid: 36.53064727783203\n",
      "is: 1.2937095165252686 ± 0.028916632756590843\n"
     ]
    }
   ],
   "source": [
    "# compute scores for live -> real\n",
    "fid = compute_fid(live2real, live_data, real_data)\n",
    "i_score = compute_is(live2real, live_data)\n",
    "\n",
    "print(f'fid: {fid}')\n",
    "print(f'is: {i_score[0]} \\u00B1 {i_score[1]}')"
   ]
  },
  {
   "cell_type": "code",
   "execution_count": 25,
   "id": "cdfe8b44",
   "metadata": {},
   "outputs": [
    {
     "name": "stdout",
     "output_type": "stream",
     "text": [
      "fid: 65.1513900756836\n",
      "is: 2.5775375366210938 ± 0.16500791907310486\n"
     ]
    }
   ],
   "source": [
    "# compute scores for real -> prerecorded\n",
    "fid = compute_fid(real2live, real_data, live_data)\n",
    "i_score = compute_is(real2live, real_data)\n",
    "\n",
    "print(f'fid: {fid}')\n",
    "print(f'is: {i_score[0]} \\u00B1 {i_score[1]}')"
   ]
  },
  {
   "cell_type": "code",
   "execution_count": null,
   "id": "9130b8dd",
   "metadata": {},
   "outputs": [],
   "source": []
  }
 ],
 "metadata": {
  "kernelspec": {
   "display_name": "Python 3",
   "language": "python",
   "name": "python3"
  },
  "language_info": {
   "codemirror_mode": {
    "name": "ipython",
    "version": 3
   },
   "file_extension": ".py",
   "mimetype": "text/x-python",
   "name": "python",
   "nbconvert_exporter": "python",
   "pygments_lexer": "ipython3",
   "version": "3.6.9"
  }
 },
 "nbformat": 4,
 "nbformat_minor": 5
}
